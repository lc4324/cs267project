{
  "cells": [
    {
      "cell_type": "code",
      "source": [
        "!pip install problog"
      ],
      "metadata": {
        "id": "SL-fQECMTsFR",
        "colab": {
          "base_uri": "https://localhost:8080/"
        },
        "outputId": "a2c286f3-83d7-4593-d272-16f86a386deb"
      },
      "execution_count": 2,
      "outputs": [
        {
          "output_type": "stream",
          "name": "stdout",
          "text": [
            "Looking in indexes: https://pypi.org/simple, https://us-python.pkg.dev/colab-wheels/public/simple/\n",
            "Collecting problog\n",
            "  Downloading problog-2.2.2.tar.gz (941 kB)\n",
            "\u001b[K     |████████████████████████████████| 941 kB 7.8 MB/s \n",
            "\u001b[?25hBuilding wheels for collected packages: problog\n",
            "  Building wheel for problog (setup.py) ... \u001b[?25l\u001b[?25hdone\n",
            "  Created wheel for problog: filename=problog-2.2.2-py3-none-any.whl size=1220796 sha256=55343a4c4f72ad843e5c665dbe651609f65896485eef53cba454733742c6efb1\n",
            "  Stored in directory: /root/.cache/pip/wheels/40/91/9e/412180b9c1c11f560feb467dbb0455d15877ec35abbd2228e5\n",
            "Successfully built problog\n",
            "Installing collected packages: problog\n",
            "Successfully installed problog-2.2.2\n"
          ]
        }
      ]
    },
    {
      "cell_type": "code",
      "source": [
        "from google.colab import drive\n",
        "\n",
        "# This will prompt for authorization.\n",
        "drive.mount('/content/drive')"
      ],
      "metadata": {
        "id": "6H6dSslDUwjX",
        "colab": {
          "base_uri": "https://localhost:8080/"
        },
        "outputId": "05c7e322-9753-41a2-86a7-f16b011a78cf"
      },
      "execution_count": 3,
      "outputs": [
        {
          "output_type": "stream",
          "name": "stdout",
          "text": [
            "Mounted at /content/drive\n"
          ]
        }
      ]
    },
    {
      "cell_type": "code",
      "execution_count": 4,
      "metadata": {
        "id": "xdHjj4E9eZIj"
      },
      "outputs": [],
      "source": [
        "import pandas as pd\n",
        "import numpy as np\n",
        "#from transformers import Trainer\n",
        "from collections import Counter\n",
        "from sklearn.model_selection import train_test_split\n",
        "from sklearn.preprocessing import MinMaxScaler\n",
        "from problog.program import PrologString\n",
        "from problog import get_evaluatable\n",
        "from datetime import datetime\n",
        "from problog.program import PrologString\n",
        "from problog import get_evaluatable\n",
        "import math\n",
        "import random\n",
        "import re\n",
        "import matplotlib.pyplot as plt\n",
        "import time\n",
        "\n",
        "# import datasets\n",
        "# from datasets import Dataset, load_metric\n",
        "\n",
        "import warnings\n",
        "warnings.filterwarnings('ignore')"
      ]
    },
    {
      "cell_type": "code",
      "execution_count": 5,
      "metadata": {
        "id": "B9YLKELHeZIp",
        "colab": {
          "base_uri": "https://localhost:8080/"
        },
        "outputId": "5c49a39e-f34c-43e6-c8fa-edc5729a808d"
      },
      "outputs": [
        {
          "output_type": "stream",
          "name": "stdout",
          "text": [
            "album_favorites        Int64\n",
            "album_title         category\n",
            "artist_favorites       Int64\n",
            "artist_name         category\n",
            "track_favorites        Int64\n",
            "track_genre_top     category\n",
            "track_genres          object\n",
            "track_genres_all      object\n",
            "track_interest         Int64\n",
            "track_listens          Int64\n",
            "track_title           object\n",
            "dtype: object\n"
          ]
        }
      ],
      "source": [
        "dt = {'album_favorites': 'Int64', 'album_title': 'category', \n",
        " 'artist_favorites': 'Int64', 'artist_name': 'category', 'track_favorites':'Int64', 'track_genre_top': 'category',\n",
        " 'track_genres': 'object', 'track_genres_all':'object', 'track_interest':'Int64', 'track_listens': 'Int64',\n",
        " 'track_title': 'object' }\n",
        "csv_path = '/content/drive/My Drive/cs267a/data.csv'\n",
        "all_data = pd.read_csv(csv_path, dtype= dt)\n",
        "\n",
        "print(all_data.dtypes)\n"
      ]
    },
    {
      "cell_type": "code",
      "execution_count": 6,
      "metadata": {
        "id": "X4SC9gQ5eZIr",
        "colab": {
          "base_uri": "https://localhost:8080/"
        },
        "outputId": "8120dc38-2dee-4426-dd5a-4c71ca4e48c8"
      },
      "outputs": [
        {
          "output_type": "stream",
          "name": "stdout",
          "text": [
            "dataset size: 9783\n"
          ]
        }
      ],
      "source": [
        "# all_data = all_data.drop(all_data[all_data['track_title'].isna()].index)\n",
        "# all_data = all_data.drop(all_data[all_data['artist_name'].isna()].index)\n",
        "all_data = all_data.drop(all_data[all_data['album_title'].isna()].index)\n",
        "all_data = all_data.drop(all_data[all_data['artist_favorites'] == -1].index)\n",
        "all_data = all_data.drop(all_data[all_data['album_favorites'] == -1].index)\n",
        "print(f\"dataset size: {len(all_data)}\")"
      ]
    },
    {
      "cell_type": "code",
      "execution_count": 7,
      "metadata": {
        "id": "7fLqBM9TeZIs",
        "colab": {
          "base_uri": "https://localhost:8080/"
        },
        "outputId": "d2c2e808-ebe7-411b-8e38-31cb9fa4a6a0"
      },
      "outputs": [
        {
          "output_type": "stream",
          "name": "stdout",
          "text": [
            "dataset size: 30\n"
          ]
        }
      ],
      "source": [
        "#data_frame = all_data[:2000]\n",
        "data_frame = all_data[:30]\n",
        "print(f\"dataset size: {len(data_frame)}\")"
      ]
    },
    {
      "cell_type": "code",
      "execution_count": 8,
      "metadata": {
        "id": "FYBdRBWveZIt"
      },
      "outputs": [],
      "source": [
        "def get_level(q75, q50, q25, val): \n",
        "    if val >= q75: return 4\n",
        "    if val >= q50: return 3\n",
        "    if val >= q25: return 2\n",
        "    return 1\n",
        "\n",
        "def convert_to_level(data_frame):\n",
        "  #split the numerical value into 4 levels.\n",
        "  album_fav_q75 = data_frame['album_favorites'].quantile(0.75)\n",
        "  album_fav_q50 = data_frame['album_favorites'].quantile(0.50)\n",
        "  album_fav_q25 = data_frame['album_favorites'].quantile(0.25)\n",
        "  data_frame['album_favorites_level'] = data_frame.apply(lambda row: get_level(album_fav_q75,album_fav_q50,album_fav_q25, row['album_favorites']), axis = 1)\n",
        "\n",
        "  artist_fav_q75 = data_frame['artist_favorites'].quantile(0.75)\n",
        "  artist_fav_q50 = data_frame['artist_favorites'].quantile(0.50)\n",
        "  artist_fav_q25 = data_frame['artist_favorites'].quantile(0.25)\n",
        "  data_frame['artist_favorites_level'] = data_frame.apply(lambda row: get_level(artist_fav_q75,artist_fav_q50,artist_fav_q25, row['artist_favorites']), axis = 1)\n",
        "\n",
        "  track_int_q75 = data_frame['track_interest'].quantile(0.75)\n",
        "  track_int_q50 = data_frame['track_interest'].quantile(0.50)\n",
        "  track_int_q25 = data_frame['track_interest'].quantile(0.25)\n",
        "  data_frame['track_interest_level'] = data_frame.apply(lambda row: get_level(track_int_q75,track_int_q50,track_int_q25, row['track_interest']), axis = 1)\n",
        "\n",
        "  track_lis_q75 = data_frame['track_listens'].quantile(0.75)\n",
        "  track_lis_q50 = data_frame['track_listens'].quantile(0.50)\n",
        "  track_lis_q25 = data_frame['track_listens'].quantile(0.25)\n",
        "  data_frame['track_listens_level'] = data_frame.apply(lambda row: get_level(track_lis_q75,track_lis_q50,track_lis_q25, row['track_listens']), axis = 1)\n",
        "\n",
        "\n",
        "  track_fav_q75 = data_frame['track_favorites'].quantile(0.75)\n",
        "  track_fav_q50 = data_frame['track_favorites'].quantile(0.50)\n",
        "  track_fav_q25 = data_frame['track_favorites'].quantile(0.25)\n",
        "  data_frame['track_favorites_level'] = data_frame.apply(lambda row: get_level(track_fav_q75,track_fav_q50,track_fav_q25, row['track_favorites']), axis = 1)\n",
        "\n",
        "\n",
        "  #normalziation \n",
        "  data_frame['album_favorites_level'] = MinMaxScaler().fit_transform(np.array(data_frame['album_favorites_level']).reshape(-1,1))\n",
        "  data_frame['artist_favorites_level'] = MinMaxScaler().fit_transform(np.array(data_frame['artist_favorites_level']).reshape(-1,1))\n",
        "  data_frame['track_interest_level'] = MinMaxScaler().fit_transform(np.array(data_frame['track_interest_level']).reshape(-1,1))\n",
        "  data_frame['track_listens_level'] = MinMaxScaler().fit_transform(np.array(data_frame['track_listens_level']).reshape(-1,1))\n",
        "  data_frame['track_favorites_level'] = MinMaxScaler().fit_transform(np.array(data_frame['track_favorites_level']).reshape(-1,1))\n",
        "  return data_frame"
      ]
    },
    {
      "cell_type": "code",
      "execution_count": 9,
      "metadata": {
        "id": "nGbTa2GeeZIv",
        "colab": {
          "base_uri": "https://localhost:8080/"
        },
        "outputId": "66d4ae41-d1f4-4274-8941-908a36ae5871"
      },
      "outputs": [
        {
          "output_type": "stream",
          "name": "stdout",
          "text": [
            "    album_favorites            album_title  artist_favorites  \\\n",
            "0                 4   AWOL - A Way Of Life                 9   \n",
            "1                 4   AWOL - A Way Of Life                 9   \n",
            "2                 4   AWOL - A Way Of Life                 9   \n",
            "3                 4      Constant Hitmaker                74   \n",
            "4                 2                  Niris                10   \n",
            "5                 2                  Niris                10   \n",
            "6                 2                  Niris                10   \n",
            "7                 2                  Niris                10   \n",
            "8                 2                  Niris                10   \n",
            "9                 4   AWOL - A Way Of Life                 9   \n",
            "10                0                    mp3                 0   \n",
            "11                0                    mp3                 0   \n",
            "12                2           Live at LACE                 5   \n",
            "13                2           Live at LACE                 5   \n",
            "14                1  Every Man For Himself                11   \n",
            "15                1         The Blind Spot                11   \n",
            "16                1  Every Man For Himself                11   \n",
            "17                1         The Quiet Room                11   \n",
            "18                0             Amoebiasis                 7   \n",
            "19                0             Amoebiasis                 7   \n",
            "20                1            Limbic Rage                 7   \n",
            "21                1            Limbic Rage                 7   \n",
            "22                0          Contradiction                 0   \n",
            "23                0   Two Gong/Wire Pieces                 1   \n",
            "24                0   Two Gong/Wire Pieces                 1   \n",
            "25                0       Make Them Suffer                 0   \n",
            "26                0       Make Them Suffer                 0   \n",
            "27                0         Arc and Sender                 0   \n",
            "28                0         Arc and Sender                 0   \n",
            "29                0        unreleased demo                 0   \n",
            "\n",
            "                        artist_name  track_favorites track_genre_top  \\\n",
            "0                              AWOL                2         Hip-Hop   \n",
            "1                              AWOL                1         Hip-Hop   \n",
            "2                              AWOL                6         Hip-Hop   \n",
            "3                         Kurt Vile              178             Pop   \n",
            "4                        Nicky Cook                0             NaN   \n",
            "5                        Nicky Cook                0             NaN   \n",
            "6                        Nicky Cook                0             NaN   \n",
            "7                        Nicky Cook                0             NaN   \n",
            "8                        Nicky Cook                0             NaN   \n",
            "9                              AWOL                3         Hip-Hop   \n",
            "10                         Abominog                0            Rock   \n",
            "11                         Abominog                0            Rock   \n",
            "12                           Airway                2    Experimental   \n",
            "13                           Airway                2    Experimental   \n",
            "14  Alec K. Redfearn & the Eyesores                3            Folk   \n",
            "15  Alec K. Redfearn & the Eyesores                5            Folk   \n",
            "16  Alec K. Redfearn & the Eyesores                1            Folk   \n",
            "17  Alec K. Redfearn & the Eyesores                6            Folk   \n",
            "18                 Amoebic Ensemble                1            Jazz   \n",
            "19                 Amoebic Ensemble                1            Jazz   \n",
            "20                 Amoebic Ensemble                5            Jazz   \n",
            "21                 Amoebic Ensemble                2            Jazz   \n",
            "22                    Contradiction                1    Experimental   \n",
            "23                     Andy Hayleck                1    Experimental   \n",
            "24                     Andy Hayleck                0    Experimental   \n",
            "25                    Animal Writes                0            Rock   \n",
            "26                    Animal Writes                0            Rock   \n",
            "27                   Arc and Sender                5            Rock   \n",
            "28                   Arc and Sender                1            Rock   \n",
            "29                   Arc and Sender                1            Rock   \n",
            "\n",
            "   track_genres   track_genres_all  track_interest  track_listens  \\\n",
            "0          [21]               [21]            4656           1293   \n",
            "1          [21]               [21]            1470            514   \n",
            "2          [21]               [21]            1933           1151   \n",
            "3          [10]               [10]           54881          50135   \n",
            "4     [76, 103]  [17, 10, 76, 103]             978            361   \n",
            "5     [76, 103]  [17, 10, 76, 103]            1060            193   \n",
            "6     [76, 103]  [17, 10, 76, 103]             718            612   \n",
            "7     [76, 103]  [17, 10, 76, 103]             252            171   \n",
            "8     [76, 103]  [17, 10, 76, 103]             247            173   \n",
            "9          [21]               [21]            1126            943   \n",
            "10     [45, 58]       [58, 12, 45]            2484           1832   \n",
            "11     [45, 58]       [58, 12, 45]            1948           1498   \n",
            "12      [1, 32]        [32, 1, 38]            2559           1278   \n",
            "13      [1, 32]        [32, 1, 38]            1909            489   \n",
            "14         [17]               [17]             702            582   \n",
            "15         [17]               [17]            1593           1299   \n",
            "16         [17]               [17]             839            725   \n",
            "17         [17]               [17]            1223            848   \n",
            "18          [4]                [4]            1146           1143   \n",
            "19          [4]                [4]             968            883   \n",
            "20          [4]                [4]             855            690   \n",
            "21          [4]                [4]             930            766   \n",
            "22          [1]            [1, 38]            2437           1831   \n",
            "23          [1]            [1, 38]            1103            453   \n",
            "24          [1]            [1, 38]            1071            407   \n",
            "25         [25]           [25, 12]             701            148   \n",
            "26         [25]           [25, 12]             637             98   \n",
            "27         [26]           [26, 12]             354            424   \n",
            "28         [26]           [26, 12]             242            205   \n",
            "29         [26]           [26, 12]             268            197   \n",
            "\n",
            "                                     track_title  album_favorites_level  \\\n",
            "0                                           Food                    1.0   \n",
            "1                                   Electric Ave                    1.0   \n",
            "2                                     This World                    1.0   \n",
            "3                                        Freeway                    1.0   \n",
            "4                                Spiritual Level                    1.0   \n",
            "5                            Where is your Love?                    1.0   \n",
            "6                                      Too Happy                    1.0   \n",
            "7                                       Yosemite                    1.0   \n",
            "8                                 Light of Light                    1.0   \n",
            "9                                   Street Music                    1.0   \n",
            "10                                  Father's Day                    0.0   \n",
            "11                    Peel Back The Mountain Sky                    0.0   \n",
            "12                                        Side A                    1.0   \n",
            "13                                        Side B                    1.0   \n",
            "14                                      CandyAss                    0.5   \n",
            "15                            Queen Of The Wires                    0.5   \n",
            "16                                          Ohio                    0.5   \n",
            "17                          Punjabi Watery Grave                    0.5   \n",
            "18                                       Wire Up                    0.0   \n",
            "19                                    Amoebiasis                    0.0   \n",
            "20  Gimme a Buck or I'll Touch You / Boilermaker                    0.5   \n",
            "21                    Repetitive Motion Sickness                    0.5   \n",
            "22                                    Blackout 2                    0.0   \n",
            "23             Outside the window bees buzzed...                    0.0   \n",
            "24  ... listening to the sunshine burn the grass                    0.0   \n",
            "25                                   Untitled 04                    0.0   \n",
            "26                                   Untitled 11                    0.0   \n",
            "27                            Hundred-Year Flood                    0.0   \n",
            "28                           Squares And Circles                    0.0   \n",
            "29                       Maps of the Stars Homes                    0.0   \n",
            "\n",
            "    artist_favorites_level  track_interest_level  track_listens_level  \\\n",
            "0                 0.666667              1.000000             1.000000   \n",
            "1                 0.666667              0.666667             0.333333   \n",
            "2                 0.666667              1.000000             1.000000   \n",
            "3                 1.000000              1.000000             1.000000   \n",
            "4                 1.000000              0.333333             0.000000   \n",
            "5                 1.000000              0.333333             0.000000   \n",
            "6                 1.000000              0.333333             0.333333   \n",
            "7                 1.000000              0.000000             0.000000   \n",
            "8                 1.000000              0.000000             0.000000   \n",
            "9                 0.666667              0.666667             0.666667   \n",
            "10                0.000000              1.000000             1.000000   \n",
            "11                0.000000              1.000000             1.000000   \n",
            "12                0.333333              1.000000             1.000000   \n",
            "13                0.333333              1.000000             0.333333   \n",
            "14                1.000000              0.000000             0.333333   \n",
            "15                1.000000              0.666667             1.000000   \n",
            "16                1.000000              0.333333             0.666667   \n",
            "17                1.000000              0.666667             0.666667   \n",
            "18                0.666667              0.666667             0.666667   \n",
            "19                0.666667              0.333333             0.666667   \n",
            "20                0.666667              0.333333             0.666667   \n",
            "21                0.666667              0.333333             0.666667   \n",
            "22                0.000000              1.000000             1.000000   \n",
            "23                0.333333              0.666667             0.333333   \n",
            "24                0.333333              0.666667             0.333333   \n",
            "25                0.000000              0.000000             0.000000   \n",
            "26                0.000000              0.000000             0.000000   \n",
            "27                0.000000              0.000000             0.333333   \n",
            "28                0.000000              0.000000             0.000000   \n",
            "29                0.000000              0.000000             0.000000   \n",
            "\n",
            "    track_favorites_level  \n",
            "0                     0.5  \n",
            "1                     0.5  \n",
            "2                     1.0  \n",
            "3                     1.0  \n",
            "4                     0.0  \n",
            "5                     0.0  \n",
            "6                     0.0  \n",
            "7                     0.0  \n",
            "8                     0.0  \n",
            "9                     1.0  \n",
            "10                    0.0  \n",
            "11                    0.0  \n",
            "12                    0.5  \n",
            "13                    0.5  \n",
            "14                    1.0  \n",
            "15                    1.0  \n",
            "16                    0.5  \n",
            "17                    1.0  \n",
            "18                    0.5  \n",
            "19                    0.5  \n",
            "20                    1.0  \n",
            "21                    0.5  \n",
            "22                    0.5  \n",
            "23                    0.5  \n",
            "24                    0.0  \n",
            "25                    0.0  \n",
            "26                    0.0  \n",
            "27                    1.0  \n",
            "28                    0.5  \n",
            "29                    0.5  \n"
          ]
        }
      ],
      "source": [
        "convert_to_level(data_frame)\n",
        "print(data_frame)\n"
      ]
    },
    {
      "cell_type": "code",
      "execution_count": 21,
      "metadata": {
        "id": "svX6tDiFeZIv"
      },
      "outputs": [],
      "source": [
        "# data_frame['album_favorites_normalized'] = MinMaxScaler().fit_transform(np.array(data_frame['album_favorites']).reshape(-1,1))\n",
        "# data_frame['artist_favorites_normalized'] = MinMaxScaler().fit_transform(np.array(data_frame['artist_favorites']).reshape(-1,1))\n",
        "\n",
        "# data_frame['track_favorites_normalized'] = MinMaxScaler().fit_transform(np.array(data_frame['track_favorites']).reshape(-1,1))\n",
        "# data_frame['track_interest_normalized'] = MinMaxScaler().fit_transform(np.array(data_frame['track_interest']).reshape(-1,1))\n",
        "# data_frame['track_listens_normalized'] = MinMaxScaler().fit_transform(np.array(data_frame['track_listens']).reshape(-1,1))\n",
        "# data_frame['quality'] = data_frame['track_favorites_normalized'] / data_frame['track_listens_normalized']\n",
        "# data_frame['quality'] = MinMaxScaler().fit_transform(np.array(data_frame['quality']).reshape(-1,1))\n",
        "# example = data_frame[['track_favorites','quality']].head(20)\n",
        "# print(example)"
      ]
    },
    {
      "cell_type": "code",
      "execution_count": 22,
      "metadata": {
        "id": "GjZGPiTteZIw"
      },
      "outputs": [],
      "source": [
        "# w_fav = 0.5\n",
        "# w_int = 0.2\n",
        "# w_lis = 0.3\n",
        "\n",
        "\n",
        "#data_frame['popularity'] = data_frame['track_favorites_normalized']*w_fav + data_frame['track_interest_normalized'] * w_int + data_frame['track_listens_normalized'] * w_lis\n",
        "# sub_frame = data_frame[data_frame['album_title'] == 'AWOL - A Way Of Life']\n",
        "\n",
        "# sub_frame = data_frame[:10]\n",
        "\n",
        "# sub_frame_1 = sub_frame[['artist_favorites', 'album_favorites', 'track_favorites', 'track_interest', 'track_listens','popularity' ]]\n",
        "#print(sub_frame_1)\n",
        "\n",
        "# sub_frame_2 = sub_frame[['artist_favorites_normalized','album_favorites_normalized', 'track_favorites_normalized', 'track_interest_normalized', 'track_listens_normalized','popularity' ]]\n",
        "# print(sub_frame_2)\n",
        "\n",
        "# sub_frame_2 = sub_frame[['artist_favorites_normalized','album_favorites_normalized', 'track_favorites_normalized', 'track_interest_normalized', 'track_listens_normalized','popularity' ]]\n",
        "# print(sub_frame_2)\n",
        "\n",
        "# sub_frame_3 = sub_frame[['t_int_bin', 't_lis_bin', 't_fav_bin']]\n",
        "# print(sub_frame_3)"
      ]
    },
    {
      "cell_type": "code",
      "execution_count": 23,
      "metadata": {
        "id": "xUWByjMyeZIx"
      },
      "outputs": [],
      "source": [
        "# prob_str =\"\"\n",
        "# evidence_str = \"\"\n",
        "# for index, row in data_frame.iterrows():\n",
        "    \n",
        "#     # prob_str = str(row['track_interest_normalized'])+f\"::song_i({index}). \\n\"\n",
        "#     evi_str = f\"evidence(song_i, {row['track_interest_level']}).\\n\"\n",
        "#     evi_str += f\"evidence(song_l, {row['track_listens_level']}).\\n\"\n",
        "#     evi_str += f\"evidence(song_f, {row['track_favorites_level']}).\\n\"\n",
        "#     evi_str += \"-----\\n\"\n",
        "#     evidence_str += evi_str\n",
        "\n",
        "\n",
        "# rule = \"t(_)::song_i.\\n t(_)::song_l:-song_i. \\n t(_)::song_f:-song_l.\"\n",
        "# prob_str += rule\n",
        "\n",
        "# text_file = open(\"fact_and_rule.pl\", \"w\")\n",
        "# n = text_file.write(prob_str)\n",
        "# text_file.close()\n",
        "\n",
        "# text_file = open(\"evidence.pl\", \"w\")\n",
        "# n = text_file.write(evidence_str)\n",
        "# text_file.close()"
      ]
    },
    {
      "cell_type": "markdown",
      "source": [
        "# Model Generator"
      ],
      "metadata": {
        "id": "RU4008G4GWBJ"
      }
    },
    {
      "cell_type": "code",
      "source": [
        "prob_str =\"\"\n",
        "evidence_str = \"\"\n",
        "rule_str = \"\"\n",
        "fact_str = \"\"\n",
        "\n",
        "albums = []\n",
        "artists = []\n",
        "genres = []\n",
        "song_to_favorites = {}\n",
        "\n",
        "pattern = re.compile('[^a-zA-Z]+')\n",
        "\n",
        "for index, row in data_frame.iterrows():\n",
        "    # define albums\n",
        "    album = \"a\"+pattern.sub('', str(row['album_title'])).lower()\n",
        "    if not album in albums:\n",
        "        albums.append(album)\n",
        "        prob_str += f\"t(_)::influence_via_album({album}). \\n\"\n",
        "        fact_str+= f\"album({album}). \\n\"\n",
        "    # define artists\n",
        "    artist = \"a\"+pattern.sub('', str(row['artist_name'])).lower()\n",
        "    if not artist in artists:\n",
        "        prob_str+= f\"t(_)::influence_via_artist({artist}). \\n\"\n",
        "        fact_str+= f\"artist({artist}). \\n\"\n",
        "        artists.append(artist)\n",
        "    # define genres\n",
        "    genre = \"g\"+pattern.sub('', str(row['track_genre_top'])).lower()\n",
        "    if not genre in genres:\n",
        "        prob_str+= f\"t(_)::influence_via_genre({genre}). \\n\"\n",
        "        fact_str+= f\"genre({genre}). \\n\"\n",
        "        genres.append(genre)\n",
        "    # define songs\n",
        "    song = \"s\"+pattern.sub('', str(row['track_title'])).lower()\n",
        "    favorites = row['track_favorites_level']\n",
        "    if not (favorites >= 0.0 and favorites <= 1.0):\n",
        "        raise ValueError(f\"invalid favorites {favorites}\")\n",
        "    if song not in song_to_favorites:\n",
        "        song_to_favorites[song] = favorites\n",
        "        prob_str+= f\"t(_)::song_quality({song}). \\n\"\n",
        "        fact_str+= f\"song({song}). \\n\"\n",
        "\n",
        "    fact_str+= f\"belongs_to_album({song},{album}). \\n\"\n",
        "    fact_str+= f\"belongs_to_genre({song},{genre}). \\n\"\n",
        "    fact_str+= f\"belongs_to_artist({song},{artist}). \\n\"\n",
        "\n",
        "    evidence_str += f\"evidence(song_popularity({song}), {favorites}). \\n\"\n",
        "\n",
        "\n",
        "rule1 = \"\"\"\n",
        "t(_)::song_popularity(S1):-song(S1), song_quality(S1).\n",
        "\"\"\"\n",
        "\n",
        "rule2 = \"\"\"\n",
        "song_popularity(X1):- \n",
        "    song(X1),\n",
        "    song(X2),\n",
        "    album(A),\n",
        "    belongs_to_album(X1,A), \n",
        "    belongs_to_album(X2,A),\n",
        "    influence_via_album(A), \n",
        "    song_popularity(X2).\n",
        "\"\"\"\n",
        "\n",
        "rule3 = \"\"\"\n",
        "song_popularity(X1):- \n",
        "    song(X1),\n",
        "    song(X2),\n",
        "    genre(G),\n",
        "    belongs_to_genre(X1,G), \n",
        "    belongs_to_genre(X2,G),\n",
        "    influence_via_genre(G), \n",
        "    song_popularity(X2).\n",
        "\"\"\"\n",
        "\n",
        "rule4 = \"\"\"\n",
        "song_popularity(X1):- \n",
        "    song(X1),\n",
        "    song(X2),\n",
        "    artist(A),\n",
        "    belongs_to_artist(X1,A), \n",
        "    belongs_to_artist(X2,A),\n",
        "    influence_via_artist(A), \n",
        "    song_popularity(X2).\n",
        "\"\"\"\n",
        "rules = [rule1, rule3, rule4]\n",
        "rule_str = \"\\n\".join(rules)\n",
        "\n",
        "text_file = open(\"fact_and_rule.pl\", \"w\")\n",
        "#text_file.write(\"% facts\\n\")\n",
        "text_file.write(fact_str+\"\\n\")\n",
        "#text_file.write(\"% probabilities\\n\")\n",
        "text_file.write(prob_str+\"\\n\")\n",
        "#text_file.write(\"% rules\\n\")\n",
        "text_file.write(rule_str+\"\")\n",
        "text_file.close()\n",
        "\n",
        "text_file = open(\"evidence.pl\", \"w\")\n",
        "n = text_file.write(evidence_str)\n",
        "text_file.close()\n",
        "\n",
        "#problog lfi .\\fact_and_rule.pl .\\evidence.pl -O .\\output.pl"
      ],
      "metadata": {
        "id": "bFeb0ew6Gei8"
      },
      "execution_count": 24,
      "outputs": []
    },
    {
      "cell_type": "code",
      "source": [
        "start_time = datetime.now()\n",
        "!problog lfi fact_and_rule.pl evidence.pl -O output.pl\n",
        "end_time = datetime.now()\n",
        "print(f\"\\n Model generated in {end_time-start_time}\")"
      ],
      "metadata": {
        "id": "YWoG1NdoHsT1",
        "colab": {
          "base_uri": "https://localhost:8080/"
        },
        "outputId": "4f2356b7-f9e6-4655-da79-2607c2bfb0ea"
      },
      "execution_count": 25,
      "outputs": [
        {
          "output_type": "stream",
          "name": "stdout",
          "text": [
            "tcmalloc: large alloc 1152008192 bytes == 0x37ae000 @  0x7f862422a887 0x424c9f 0x40bb4e 0x402a56 0x42695d 0x7f86234e6c18 0x402acd\n",
            "-41.19111124162137 [0.3395013, 0.35815425, 0.08540434, 0.33208336, 0.132035, 0.29215679, 0.52779029, 0.67968595, 0.89121386, 0.44658683, 0.43645167, 0.27984939, 0.67062843, 0.46707471, 0.80938762, 0.4098924, 0.60049647, 0.85171165, 0.5429661, 0.33725787, 0.67594127, 0.20840568, 0.16870144, 0.89617908, 0.38112107, 0.84316986, 0.39905772, 0.84188386, 0.49871919, 0.99507636, 0.0763056, 0.48178539, 0.45121869, 0.48086676, 0.15300648, 0.63489843, 0.88572463, 0.66947998, 0.26451749, 0.49142396, 0.22527929, 0.345972, 0.735935, 0.89229655, 0.58993246, 0.3695814, 0.50926167, 0.59617918, 0.7574933, 0.17878106, 0.5561427, 0.66698133, 0.03872413, 0.08868939, 0.5269403, 0.83490847, 0.4469987, 0.70771398, 0.37193569, 0.41662536, 0.61478841, 0.34204543, 0.70620616] [t(_)::influence_via_album(aawolawayoflife), t(_)::influence_via_artist(aawol), t(_)::influence_via_genre(ghiphop), t(_)::song_quality(sfood), t(_)::song_quality(selectricave), t(_)::song_quality(sthisworld), t(_)::influence_via_album(aconstanthitmaker), t(_)::influence_via_artist(akurtvile), t(_)::influence_via_genre(gpop), t(_)::song_quality(sfreeway), t(_)::influence_via_album(aniris), t(_)::influence_via_artist(anickycook), t(_)::influence_via_genre(gnan), t(_)::song_quality(sspirituallevel), t(_)::song_quality(swhereisyourlove), t(_)::song_quality(stoohappy), t(_)::song_quality(syosemite), t(_)::song_quality(slightoflight), t(_)::song_quality(sstreetmusic), t(_)::influence_via_album(amp), t(_)::influence_via_artist(aabominog), t(_)::influence_via_genre(grock), t(_)::song_quality(sfathersday), t(_)::song_quality(speelbackthemountainsky), t(_)::influence_via_album(aliveatlace), t(_)::influence_via_artist(aairway), t(_)::influence_via_genre(gexperimental), t(_)::song_quality(ssidea), t(_)::song_quality(ssideb), t(_)::influence_via_album(aeverymanforhimself), t(_)::influence_via_artist(aaleckredfearntheeyesores), t(_)::influence_via_genre(gfolk), t(_)::song_quality(scandyass), t(_)::influence_via_album(atheblindspot), t(_)::song_quality(squeenofthewires), t(_)::song_quality(sohio), t(_)::influence_via_album(athequietroom), t(_)::song_quality(spunjabiwaterygrave), t(_)::influence_via_album(aamoebiasis), t(_)::influence_via_artist(aamoebicensemble), t(_)::influence_via_genre(gjazz), t(_)::song_quality(swireup), t(_)::song_quality(samoebiasis), t(_)::influence_via_album(alimbicrage), t(_)::song_quality(sgimmeabuckorilltouchyouboilermaker), t(_)::song_quality(srepetitivemotionsickness), t(_)::influence_via_album(acontradiction), t(_)::influence_via_artist(acontradiction), t(_)::song_quality(sblackout), t(_)::influence_via_album(atwogongwirepieces), t(_)::influence_via_artist(aandyhayleck), t(_)::song_quality(soutsidethewindowbeesbuzzed), t(_)::song_quality(slisteningtothesunshineburnthegrass), t(_)::influence_via_album(amakethemsuffer), t(_)::influence_via_artist(aanimalwrites), t(_)::song_quality(suntitled), t(_)::influence_via_album(aarcandsender), t(_)::influence_via_artist(aarcandsender), t(_)::song_quality(shundredyearflood), t(_)::song_quality(ssquaresandcircles), t(_)::influence_via_album(aunreleaseddemo), t(_)::song_quality(smapsofthestarshomes), t(_)::song_popularity(S1)] 2\n",
            "\n",
            " Model generated in 0:00:23.617042\n"
          ]
        }
      ]
    },
    {
      "cell_type": "code",
      "source": [
        "model_file = open(\"output.pl\", \"r\")\n",
        "model = model_file.read()\n",
        "model_file.close()\n",
        "\n",
        "# model += \"query(song_popularity(sfood)). \\n\"\n",
        "# model += \"query(song_popularity(selectricave)). \\n\"\n",
        "model += \"query(song_popularity(_)). \\n\"\n",
        "# print(model)\n",
        "\n",
        "start_time = datetime.now()\n",
        "prediction = get_evaluatable().create_from(PrologString(model)).evaluate()\n",
        "end_time = datetime.now()\n",
        "print(prediction)\n",
        "print(f\"\\n Inference time: {end_time-start_time}\")"
      ],
      "metadata": {
        "colab": {
          "base_uri": "https://localhost:8080/"
        },
        "id": "uy3J2rPvg1Ti",
        "outputId": "fe4181ec-a910-4853-86cc-03753be1ff00"
      },
      "execution_count": 26,
      "outputs": [
        {
          "output_type": "stream",
          "name": "stdout",
          "text": [
            "{song_popularity(sfreeway): 0.315382374053617, song_popularity(srepetitivemotionsickness): 0.6140118744607708, song_popularity(sgimmeabuckorilltouchyouboilermaker): 0.675324190079941, song_popularity(samoebiasis): 0.7159491522414425, song_popularity(swireup): 0.6074425990669695, song_popularity(spunjabiwaterygrave): 0.6554995992603236, song_popularity(sohio): 0.6438096155668656, song_popularity(squeenofthewires): 0.480910345845089, song_popularity(scandyass): 0.5817183188042805, song_popularity(sstreetmusic): 0.4977966357660868, song_popularity(sthisworld): 0.39382018945165626, song_popularity(selectricave): 0.327439503442132, song_popularity(sfood): 0.41037229719961144, song_popularity(sblackout): 0.6954502782411572, song_popularity(ssideb): 0.7807815447165964, song_popularity(ssidea): 0.8036215587050437, song_popularity(slisteningtothesunshineburnthegrass): 0.5435289563724909, song_popularity(soutsidethewindowbeesbuzzed): 0.6618726456721208, song_popularity(slightoflight): 0.8697595022043051, song_popularity(syosemite): 0.8276784286097423, song_popularity(stoohappy): 0.7957503255296831, song_popularity(swhereisyourlove): 0.8626698005669412, song_popularity(sspirituallevel): 0.8053289383145038, song_popularity(suntitled): 0.6642275538076619, song_popularity(speelbackthemountainsky): 0.721882044065281, song_popularity(sfathersday): 0.5900935362735596, song_popularity(shundredyearflood): 0.5973701252231997, song_popularity(ssquaresandcircles): 0.6046722524482003, song_popularity(smapsofthestarshomes): 0.592486167786679}\n",
            "\n",
            " Inference time: 0:01:07.315329\n"
          ]
        }
      ]
    },
    {
      "cell_type": "code",
      "source": [
        "def rmse(target, predication):\n",
        "  diff = 0\n",
        "  for key in predication:\n",
        "    start = str(key).index(\"(\")\n",
        "    end = str(key).index(\")\")\n",
        "    song = str(key)[start+1:end]\n",
        "    #print(f\"{song}: {predication[key]}, {target[song]}\")\n",
        "    diff += (predication[key]-target[song])**2\n",
        "  return math.sqrt(diff/len(predication))\n",
        "\n",
        "def mae(target, predication):\n",
        "  diff = 0\n",
        "  for key in predication:\n",
        "    start = str(key).index(\"(\")\n",
        "    end = str(key).index(\")\")\n",
        "    song = str(key)[start+1:end]\n",
        "    #print(f\"{song}: {predication[key]}, {target[song]}\")\n",
        "    diff += abs(predication[key]-target[song])\n",
        "  return diff/len(predication)"
      ],
      "metadata": {
        "id": "uDJMspighygx"
      },
      "execution_count": 10,
      "outputs": []
    },
    {
      "cell_type": "code",
      "source": [
        "def get_random_predictoin(predication):\n",
        "  rand = prediction.copy()\n",
        "  for key in rand:\n",
        "    rand[key] = random.random()\n",
        "  return rand"
      ],
      "metadata": {
        "id": "ciIMIe-yl2cz"
      },
      "execution_count": 28,
      "outputs": []
    },
    {
      "cell_type": "code",
      "source": [
        "random.seed(1)\n",
        "rand = get_random_predictoin(prediction)\n",
        "\n",
        "print(\"rmse:\")\n",
        "print(f\"Problog: {rmse(song_to_favorites, prediction)}\")\n",
        "print(f\"Random: {rmse(song_to_favorites, rand)}\")\n",
        "\n",
        "print(\"\\nmae:\")\n",
        "print(f\"Problog: {mae(song_to_favorites, prediction)}\")\n",
        "print(f\"Random: {mae(song_to_favorites, rand)}\")"
      ],
      "metadata": {
        "colab": {
          "base_uri": "https://localhost:8080/"
        },
        "id": "Kslk-bmPmMj1",
        "outputId": "5c0b5025-e82b-4a25-bd28-c399bef9ff85"
      },
      "execution_count": 29,
      "outputs": [
        {
          "output_type": "stream",
          "name": "stdout",
          "text": [
            "rmse:\n",
            "Problog: 0.5043616819952983\n",
            "Random: 0.4967599702237819\n",
            "\n",
            "mae:\n",
            "Problog: 0.4298407998456578\n",
            "Random: 0.38624534369051594\n"
          ]
        }
      ]
    },
    {
      "cell_type": "code",
      "source": [
        "def inference_on_random_model(size):\n",
        "  data_frame = all_data[:size]\n",
        "  print(f\"dataset size: {len(data_frame)}\")\n",
        "\n",
        "  prob_str =\"\"\n",
        "  evidence_str = \"\"\n",
        "  rule_str = \"\"\n",
        "  fact_str = \"\"\n",
        "\n",
        "  albums = []\n",
        "  artists = []\n",
        "  genres = []\n",
        "  song_to_favorites = {}\n",
        "\n",
        "  pattern = re.compile('[^a-zA-Z]+')\n",
        "\n",
        "  for index, row in data_frame.iterrows():\n",
        "      # define albums\n",
        "      album = \"a\"+pattern.sub('', str(row['album_title'])).lower()\n",
        "      if not album in albums:\n",
        "          albums.append(album)\n",
        "          prob_str += f\"t(_)::influence_via_album({album}). \\n\"\n",
        "          fact_str+= f\"album({album}). \\n\"\n",
        "      # define artists\n",
        "      artist = \"a\"+pattern.sub('', str(row['artist_name'])).lower()\n",
        "      if not artist in artists:\n",
        "          prob_str+= f\"t(_)::influence_via_artist({artist}). \\n\"\n",
        "          fact_str+= f\"artist({artist}). \\n\"\n",
        "          artists.append(artist)\n",
        "      # define genres\n",
        "      genre = \"g\"+pattern.sub('', str(row['track_genre_top'])).lower()\n",
        "      if not genre in genres:\n",
        "          prob_str+= f\"t(_)::influence_via_genre({genre}). \\n\"\n",
        "          fact_str+= f\"genre({genre}). \\n\"\n",
        "          genres.append(genre)\n",
        "      # define songs\n",
        "      song = \"s\"+pattern.sub('', str(row['track_title'])).lower()\n",
        "      favorites = random.random()\n",
        "      if not (favorites >= 0.0 and favorites <= 1.0):\n",
        "          raise ValueError(f\"invalid favorites {favorites}\")\n",
        "      if song not in song_to_favorites:\n",
        "          song_to_favorites[song] = favorites\n",
        "          prob_str+= f\"t(_)::song_quality({song}). \\n\"\n",
        "          fact_str+= f\"song({song}). \\n\"\n",
        "\n",
        "      fact_str+= f\"belongs_to_album({song},{album}). \\n\"\n",
        "      fact_str+= f\"belongs_to_genre({song},{genre}). \\n\"\n",
        "      fact_str+= f\"belongs_to_artist({song},{artist}). \\n\"\n",
        "\n",
        "      evidence_str += f\"evidence(song_popularity({song}), {favorites}). \\n\"\n",
        "\n",
        "\n",
        "  rule1 = \"\"\"\n",
        "  t(_)::song_popularity(S1):-song(S1), song_quality(S1).\n",
        "  \"\"\"\n",
        "\n",
        "  rule2 = \"\"\"\n",
        "  song_popularity(X1):- \n",
        "      song(X1),\n",
        "      song(X2),\n",
        "      album(A),\n",
        "      belongs_to_album(X1,A), \n",
        "      belongs_to_album(X2,A),\n",
        "      influence_via_album(A), \n",
        "      song_popularity(X2).\n",
        "  \"\"\"\n",
        "\n",
        "  rule3 = \"\"\"\n",
        "  song_popularity(X1):- \n",
        "      song(X1),\n",
        "      song(X2),\n",
        "      genre(G),\n",
        "      belongs_to_genre(X1,G), \n",
        "      belongs_to_genre(X2,G),\n",
        "      influence_via_genre(G), \n",
        "      song_popularity(X2).\n",
        "  \"\"\"\n",
        "\n",
        "  rule4 = \"\"\"\n",
        "  song_popularity(X1):- \n",
        "      song(X1),\n",
        "      song(X2),\n",
        "      artist(A),\n",
        "      belongs_to_artist(X1,A), \n",
        "      belongs_to_artist(X2,A),\n",
        "      influence_via_artist(A), \n",
        "      song_popularity(X2).\n",
        "  \"\"\"\n",
        "  rules = [rule1, rule2, rule3]\n",
        "  rule_str = \"\\n\".join(rules)\n",
        "\n",
        "  text_file = open(\"fact_and_rule.pl\", \"w\")\n",
        "  #text_file.write(\"% facts\\n\")\n",
        "  text_file.write(fact_str+\"\\n\")\n",
        "  #text_file.write(\"% probabilities\\n\")\n",
        "  text_file.write(prob_str+\"\\n\")\n",
        "  #text_file.write(\"% rules\\n\")\n",
        "  text_file.write(rule_str+\"\")\n",
        "  text_file.close()\n",
        "\n",
        "  text_file = open(\"evidence.pl\", \"w\")\n",
        "  n = text_file.write(evidence_str)\n",
        "  text_file.close()\n",
        "\n",
        "  start_time = time.time()\n",
        "  !problog lfi fact_and_rule.pl evidence.pl -O output.pl\n",
        "  end_time = time.time()\n",
        "  parameter_learning_time = end_time-start_time\n",
        "  print(f\"Model generated in {parameter_learning_time}\")\n",
        "\n",
        "  model_file = open(\"output.pl\", \"r\")\n",
        "  model = model_file.read()\n",
        "  model_file.close()\n",
        "  model += \"query(song_popularity(_)). \\n\"\n",
        "\n",
        "  start_time = time.time()\n",
        "  prediction = get_evaluatable().create_from(PrologString(model)).evaluate()\n",
        "  end_time = time.time()\n",
        "  inference_time = end_time-start_time\n",
        "  print(f\"Inference time: {inference_time}\")\n",
        "\n",
        "  return parameter_learning_time, inference_time\n",
        "\n",
        "  \n"
      ],
      "metadata": {
        "id": "XyoSmB4_92s6"
      },
      "execution_count": 11,
      "outputs": []
    },
    {
      "cell_type": "code",
      "source": [
        "indices = []\n",
        "parameter_learning_time = []\n",
        "inference_time = []\n",
        "for i in range(40, 50):\n",
        "  t1, t2 = inference_on_random_model(i)\n",
        "  indices.append(i)\n",
        "  parameter_learning_time.append(t1)\n",
        "  inference_time.append(t2)\n",
        "\n",
        "print(indices)\n",
        "print(parameter_learning_time)\n",
        "print(inference_time)\n",
        "\n",
        "plt.plot(indices, parameter_learning_time)\n",
        "plt.xlabel('dataset size')\n",
        "plt.ylabel('parameter learning time')\n",
        "plt.show()\n",
        "plt.plot(indices, inference_time)\n",
        "plt.xlabel('dataset size')\n",
        "plt.ylabel('inference time')\n",
        "plt.show()"
      ],
      "metadata": {
        "colab": {
          "base_uri": "https://localhost:8080/"
        },
        "id": "4b9FtHePDSnd",
        "outputId": "c5dceab6-b89b-41f6-f0e2-96e80ced6937"
      },
      "execution_count": null,
      "outputs": [
        {
          "metadata": {
            "tags": null
          },
          "name": "stdout",
          "output_type": "stream",
          "text": [
            "dataset size: 40\n",
            "tcmalloc: large alloc 1152008192 bytes == 0x41e2000 @  0x7fdf28f23887 0x424c9f 0x40bb4e 0x402a56 0x42695d 0x7fdf281dfc18 0x402acd\n",
            "-39.091153644807754 [0.64485795, 0.48373023, 0.48374187, 0.92666152, 0.4227599, 0.55488198, 0.43670075, 0.4857091, 0.96694123, 0.18752294, 0.33523994, 0.28520564, 0.50574473, 0.59473148, 0.80270093, 0.36667925, 0.35696802, 0.41070845, 0.96283895, 0.52512131, 0.17773431, 0.18691355, 0.63378357, 0.91368141, 0.99649569, 0.18941474, 0.61696925, 0.26812714, 0.55814456, 0.74212653, 0.59688985, 0.1733614, 0.28595645, 0.53570982, 0.94679794, 0.64921073, 0.41046807, 0.46335752, 0.46513406, 0.68723368, 0.75589646, 0.15214839, 0.81095505, 0.57890539, 0.50208025, 0.64807474, 0.21886023, 0.38430597, 0.27929762, 0.33559842, 0.28330807, 0.70070234, 0.30764599, 0.59930018, 0.21353125, 0.54927729, 0.43733482, 0.59349591, 0.47553267, 0.45589912, 0.54484202, 0.5444792, 0.51395566, 0.06335879, 0.37739952, 0.59929801] [t(_)::influence_via_album(aawolawayoflife), t(_)::influence_via_artist(aawol), t(_)::influence_via_genre(ghiphop), t(_)::song_quality(sfood), t(_)::song_quality(selectricave), t(_)::song_quality(sthisworld), t(_)::influence_via_album(aconstanthitmaker), t(_)::influence_via_artist(akurtvile), t(_)::influence_via_genre(gpop), t(_)::song_quality(sfreeway), t(_)::influence_via_album(aniris), t(_)::influence_via_artist(anickycook), t(_)::influence_via_genre(gnan), t(_)::song_quality(sspirituallevel), t(_)::song_quality(swhereisyourlove), t(_)::song_quality(stoohappy), t(_)::song_quality(syosemite), t(_)::song_quality(slightoflight), t(_)::song_quality(sstreetmusic), t(_)::influence_via_album(amp), t(_)::influence_via_artist(aabominog), t(_)::influence_via_genre(grock), t(_)::song_quality(sfathersday), t(_)::song_quality(speelbackthemountainsky), t(_)::influence_via_album(aliveatlace), t(_)::influence_via_artist(aairway), t(_)::influence_via_genre(gexperimental), t(_)::song_quality(ssidea), t(_)::song_quality(ssideb), t(_)::influence_via_album(aeverymanforhimself), t(_)::influence_via_artist(aaleckredfearntheeyesores), t(_)::influence_via_genre(gfolk), t(_)::song_quality(scandyass), t(_)::influence_via_album(atheblindspot), t(_)::song_quality(squeenofthewires), t(_)::song_quality(sohio), t(_)::influence_via_album(athequietroom), t(_)::song_quality(spunjabiwaterygrave), t(_)::influence_via_album(aamoebiasis), t(_)::influence_via_artist(aamoebicensemble), t(_)::influence_via_genre(gjazz), t(_)::song_quality(swireup), t(_)::song_quality(samoebiasis), t(_)::influence_via_album(alimbicrage), t(_)::song_quality(sgimmeabuckorilltouchyouboilermaker), t(_)::song_quality(srepetitivemotionsickness), t(_)::influence_via_album(acontradiction), t(_)::influence_via_artist(acontradiction), t(_)::song_quality(sblackout), t(_)::influence_via_album(atwogongwirepieces), t(_)::influence_via_artist(aandyhayleck), t(_)::song_quality(soutsidethewindowbeesbuzzed), t(_)::song_quality(slisteningtothesunshineburnthegrass), t(_)::influence_via_album(amakethemsuffer), t(_)::influence_via_artist(aanimalwrites), t(_)::song_quality(suntitled), t(_)::influence_via_album(aarcandsender), t(_)::influence_via_artist(aarcandsender), t(_)::song_quality(shundredyearflood), t(_)::song_quality(ssquaresandcircles), t(_)::influence_via_album(aunreleaseddemo), t(_)::song_quality(smapsofthestarshomes), t(_)::influence_via_album(atheehauntedcobblestonesunsetconcertseries), t(_)::influence_via_artist(aareac), t(_)::song_quality(strack), t(_)::song_popularity(S1)] 10\n",
            "Model generated in 60.51851034164429\n",
            "Inference time: 50.308289766311646\n",
            "dataset size: 41\n",
            "tcmalloc: large alloc 1152008192 bytes == 0x3a68000 @  0x7fa3ea58c887 0x424c9f 0x40bb4e 0x402a56 0x42695d 0x7fa3e9848c18 0x402acd\n",
            "-58.94427161113957 [0.25929513, 0.82810343, 0.79335303, 0.5843347, 0.94503427, 0.43355498, 0.39050424, 0.387333, 0.24563207, 0.7423418, 0.07276232, 0.91148326, 0.85992795, 0.77689808, 0.45322485, 0.23149588, 0.54761591, 0.11230888, 0.36161324, 0.8630612, 0.94362854, 0.25290298, 0.33068131, 0.29383347, 0.28582203, 0.57821292, 0.28418413, 0.19401893, 0.75220983, 0.30344953, 0.25867153, 0.42271699, 0.12815937, 0.09470863, 0.22487155, 0.4864546, 0.41714753, 0.35772706, 0.16285158, 0.32144599, 0.52752579, 0.80670636, 0.47220635, 0.7721844, 0.04664748, 0.88177666, 0.05373167, 0.49148723, 0.26471939, 0.36264844, 0.50349381, 0.62222433, 0.30327616, 0.35005044, 0.60455558, 0.28255143, 0.30401448, 0.93284689, 0.31138658, 0.19578865, 0.40503191, 0.07627433, 0.55581215, 0.51497327, 0.8569544, 0.36278918] [t(_)::influence_via_album(aawolawayoflife), t(_)::influence_via_artist(aawol), t(_)::influence_via_genre(ghiphop), t(_)::song_quality(sfood), t(_)::song_quality(selectricave), t(_)::song_quality(sthisworld), t(_)::influence_via_album(aconstanthitmaker), t(_)::influence_via_artist(akurtvile), t(_)::influence_via_genre(gpop), t(_)::song_quality(sfreeway), t(_)::influence_via_album(aniris), t(_)::influence_via_artist(anickycook), t(_)::influence_via_genre(gnan), t(_)::song_quality(sspirituallevel), t(_)::song_quality(swhereisyourlove), t(_)::song_quality(stoohappy), t(_)::song_quality(syosemite), t(_)::song_quality(slightoflight), t(_)::song_quality(sstreetmusic), t(_)::influence_via_album(amp), t(_)::influence_via_artist(aabominog), t(_)::influence_via_genre(grock), t(_)::song_quality(sfathersday), t(_)::song_quality(speelbackthemountainsky), t(_)::influence_via_album(aliveatlace), t(_)::influence_via_artist(aairway), t(_)::influence_via_genre(gexperimental), t(_)::song_quality(ssidea), t(_)::song_quality(ssideb), t(_)::influence_via_album(aeverymanforhimself), t(_)::influence_via_artist(aaleckredfearntheeyesores), t(_)::influence_via_genre(gfolk), t(_)::song_quality(scandyass), t(_)::influence_via_album(atheblindspot), t(_)::song_quality(squeenofthewires), t(_)::song_quality(sohio), t(_)::influence_via_album(athequietroom), t(_)::song_quality(spunjabiwaterygrave), t(_)::influence_via_album(aamoebiasis), t(_)::influence_via_artist(aamoebicensemble), t(_)::influence_via_genre(gjazz), t(_)::song_quality(swireup), t(_)::song_quality(samoebiasis), t(_)::influence_via_album(alimbicrage), t(_)::song_quality(sgimmeabuckorilltouchyouboilermaker), t(_)::song_quality(srepetitivemotionsickness), t(_)::influence_via_album(acontradiction), t(_)::influence_via_artist(acontradiction), t(_)::song_quality(sblackout), t(_)::influence_via_album(atwogongwirepieces), t(_)::influence_via_artist(aandyhayleck), t(_)::song_quality(soutsidethewindowbeesbuzzed), t(_)::song_quality(slisteningtothesunshineburnthegrass), t(_)::influence_via_album(amakethemsuffer), t(_)::influence_via_artist(aanimalwrites), t(_)::song_quality(suntitled), t(_)::influence_via_album(aarcandsender), t(_)::influence_via_artist(aarcandsender), t(_)::song_quality(shundredyearflood), t(_)::song_quality(ssquaresandcircles), t(_)::influence_via_album(aunreleaseddemo), t(_)::song_quality(smapsofthestarshomes), t(_)::influence_via_album(atheehauntedcobblestonesunsetconcertseries), t(_)::influence_via_artist(aareac), t(_)::song_quality(strack), t(_)::song_popularity(S1)] 14\n",
            "Model generated in 81.70936393737793\n",
            "Inference time: 50.2001838684082\n",
            "dataset size: 42\n",
            "tcmalloc: large alloc 1152008192 bytes == 0x43f4000 @  0x7fc0caa1a887 0x424c9f 0x40bb4e 0x402a56 0x42695d 0x7fc0c9cd6c18 0x402acd\n",
            "-51.691869330544925 [0.46121076, 0.59102388, 0.33312727, 0.28401912, 0.6090158, 0.32019608, 0.3291756, 0.21055696, 0.51701195, 0.44155443, 0.60164752, 0.77003438, 0.82537882, 0.02430705, 0.49022751, 0.57390414, 0.33532667, 0.4227215, 0.15924184, 0.34734343, 0.59700732, 0.14793463, 0.655683, 0.29450792, 0.49004132, 0.3306986, 0.36356214, 0.66269827, 0.07354125, 0.16772873, 0.37314669, 0.5489497, 0.20109461, 0.32914668, 0.89250145, 0.68673289, 0.6784389, 0.28377423, 0.33042967, 0.41209547, 0.52395665, 0.49804131, 0.52944724, 0.46362193, 0.18066425, 0.53015321, 0.13090413, 0.05485079, 0.82742541, 0.4933897, 0.97018363, 0.55740338, 0.36018411, 0.50535721, 0.35411596, 0.04067239, 0.49910246, 0.41446116, 0.68914386, 0.75120174, 0.93824068, 0.51936001, 0.6454575, 0.51993035, 0.57636442, 0.55858713] [t(_)::influence_via_album(aawolawayoflife), t(_)::influence_via_artist(aawol), t(_)::influence_via_genre(ghiphop), t(_)::song_quality(sfood), t(_)::song_quality(selectricave), t(_)::song_quality(sthisworld), t(_)::influence_via_album(aconstanthitmaker), t(_)::influence_via_artist(akurtvile), t(_)::influence_via_genre(gpop), t(_)::song_quality(sfreeway), t(_)::influence_via_album(aniris), t(_)::influence_via_artist(anickycook), t(_)::influence_via_genre(gnan), t(_)::song_quality(sspirituallevel), t(_)::song_quality(swhereisyourlove), t(_)::song_quality(stoohappy), t(_)::song_quality(syosemite), t(_)::song_quality(slightoflight), t(_)::song_quality(sstreetmusic), t(_)::influence_via_album(amp), t(_)::influence_via_artist(aabominog), t(_)::influence_via_genre(grock), t(_)::song_quality(sfathersday), t(_)::song_quality(speelbackthemountainsky), t(_)::influence_via_album(aliveatlace), t(_)::influence_via_artist(aairway), t(_)::influence_via_genre(gexperimental), t(_)::song_quality(ssidea), t(_)::song_quality(ssideb), t(_)::influence_via_album(aeverymanforhimself), t(_)::influence_via_artist(aaleckredfearntheeyesores), t(_)::influence_via_genre(gfolk), t(_)::song_quality(scandyass), t(_)::influence_via_album(atheblindspot), t(_)::song_quality(squeenofthewires), t(_)::song_quality(sohio), t(_)::influence_via_album(athequietroom), t(_)::song_quality(spunjabiwaterygrave), t(_)::influence_via_album(aamoebiasis), t(_)::influence_via_artist(aamoebicensemble), t(_)::influence_via_genre(gjazz), t(_)::song_quality(swireup), t(_)::song_quality(samoebiasis), t(_)::influence_via_album(alimbicrage), t(_)::song_quality(sgimmeabuckorilltouchyouboilermaker), t(_)::song_quality(srepetitivemotionsickness), t(_)::influence_via_album(acontradiction), t(_)::influence_via_artist(acontradiction), t(_)::song_quality(sblackout), t(_)::influence_via_album(atwogongwirepieces), t(_)::influence_via_artist(aandyhayleck), t(_)::song_quality(soutsidethewindowbeesbuzzed), t(_)::song_quality(slisteningtothesunshineburnthegrass), t(_)::influence_via_album(amakethemsuffer), t(_)::influence_via_artist(aanimalwrites), t(_)::song_quality(suntitled), t(_)::influence_via_album(aarcandsender), t(_)::influence_via_artist(aarcandsender), t(_)::song_quality(shundredyearflood), t(_)::song_quality(ssquaresandcircles), t(_)::influence_via_album(aunreleaseddemo), t(_)::song_quality(smapsofthestarshomes), t(_)::influence_via_album(atheehauntedcobblestonesunsetconcertseries), t(_)::influence_via_artist(aareac), t(_)::song_quality(strack), t(_)::song_popularity(S1)] 2\n",
            "Model generated in 15.577361583709717\n",
            "Inference time: 53.33435606956482\n",
            "dataset size: 43\n",
            "tcmalloc: large alloc 1152008192 bytes == 0x2e50000 @  0x7faac066b887 0x424c9f 0x40bb4e 0x402a56 0x42695d 0x7faabf927c18 0x402acd\n",
            "-53.41077106114759 [0.53721904, 0.25334009, 0.66666558, 0.21695859, 0.92539188, 0.44739985, 0.52729593, 0.18944619, 0.93158101, 0.52664104, 0.0784707, 0.56404225, 0.45571068, 0.27189085, 0.49454334, 0.69651476, 0.84099087, 0.69027216, 0.49430973, 0.22427905, 0.42937552, 0.63178379, 0.36788893, 0.51268407, 0.04351201, 0.65766539, 0.58896185, 0.02953668, 0.66344938, 0.1835609, 0.28361626, 0.18583563, 0.30920806, 0.2500046, 0.60977394, 0.32130519, 0.22924705, 0.57435077, 0.20056145, 0.43652545, 0.45966014, 0.6350655, 0.76191566, 0.04616173, 0.5070971, 0.77373933, 0.47954789, 0.50867988, 0.32834403, 0.53943702, 0.63322502, 0.3584069, 0.11211712, 0.57631553, 0.45996392, 0.87257507, 0.40097297, 0.4820018, 0.70962434, 0.40655749, 0.45136268, 0.10271213, 0.63237655, 0.69482124, 0.20054928, 0.92458461] [t(_)::influence_via_album(aawolawayoflife), t(_)::influence_via_artist(aawol), t(_)::influence_via_genre(ghiphop), t(_)::song_quality(sfood), t(_)::song_quality(selectricave), t(_)::song_quality(sthisworld), t(_)::influence_via_album(aconstanthitmaker), t(_)::influence_via_artist(akurtvile), t(_)::influence_via_genre(gpop), t(_)::song_quality(sfreeway), t(_)::influence_via_album(aniris), t(_)::influence_via_artist(anickycook), t(_)::influence_via_genre(gnan), t(_)::song_quality(sspirituallevel), t(_)::song_quality(swhereisyourlove), t(_)::song_quality(stoohappy), t(_)::song_quality(syosemite), t(_)::song_quality(slightoflight), t(_)::song_quality(sstreetmusic), t(_)::influence_via_album(amp), t(_)::influence_via_artist(aabominog), t(_)::influence_via_genre(grock), t(_)::song_quality(sfathersday), t(_)::song_quality(speelbackthemountainsky), t(_)::influence_via_album(aliveatlace), t(_)::influence_via_artist(aairway), t(_)::influence_via_genre(gexperimental), t(_)::song_quality(ssidea), t(_)::song_quality(ssideb), t(_)::influence_via_album(aeverymanforhimself), t(_)::influence_via_artist(aaleckredfearntheeyesores), t(_)::influence_via_genre(gfolk), t(_)::song_quality(scandyass), t(_)::influence_via_album(atheblindspot), t(_)::song_quality(squeenofthewires), t(_)::song_quality(sohio), t(_)::influence_via_album(athequietroom), t(_)::song_quality(spunjabiwaterygrave), t(_)::influence_via_album(aamoebiasis), t(_)::influence_via_artist(aamoebicensemble), t(_)::influence_via_genre(gjazz), t(_)::song_quality(swireup), t(_)::song_quality(samoebiasis), t(_)::influence_via_album(alimbicrage), t(_)::song_quality(sgimmeabuckorilltouchyouboilermaker), t(_)::song_quality(srepetitivemotionsickness), t(_)::influence_via_album(acontradiction), t(_)::influence_via_artist(acontradiction), t(_)::song_quality(sblackout), t(_)::influence_via_album(atwogongwirepieces), t(_)::influence_via_artist(aandyhayleck), t(_)::song_quality(soutsidethewindowbeesbuzzed), t(_)::song_quality(slisteningtothesunshineburnthegrass), t(_)::influence_via_album(amakethemsuffer), t(_)::influence_via_artist(aanimalwrites), t(_)::song_quality(suntitled), t(_)::influence_via_album(aarcandsender), t(_)::influence_via_artist(aarcandsender), t(_)::song_quality(shundredyearflood), t(_)::song_quality(ssquaresandcircles), t(_)::influence_via_album(aunreleaseddemo), t(_)::song_quality(smapsofthestarshomes), t(_)::influence_via_album(atheehauntedcobblestonesunsetconcertseries), t(_)::influence_via_artist(aareac), t(_)::song_quality(strack), t(_)::song_popularity(S1)] 4\n",
            "Model generated in 27.796868085861206\n",
            "Inference time: 55.666502475738525\n",
            "dataset size: 44\n",
            "tcmalloc: large alloc 1152008192 bytes == 0x2ca8000 @  0x7f3a295b4887 0x424c9f 0x40bb4e 0x402a56 0x42695d 0x7f3a28870c18 0x402acd\n",
            "-44.2168930527307 [0.02316431, 0.67154549, 0.77449361, 0.83419573, 0.78715417, 0.03869806, 0.49458017, 0.08745, 0.3201547, 0.50448507, 0.68718785, 0.68576297, 0.68954382, 0.38094685, 0.61362468, 0.19074037, 0.54947447, 0.26944915, 0.50827791, 0.77621883, 0.66594918, 0.40334694, 0.26373998, 0.94526929, 0.62349012, 0.49990037, 0.63937171, 0.56994858, 0.51832916, 0.36746048, 0.49049199, 0.02597808, 0.4959912, 0.69291981, 0.69485314, 0.75475509, 0.84904687, 0.58659967, 0.49741285, 0.71479898, 0.38020004, 0.54990667, 0.43859773, 0.53991992, 0.28478618, 0.81693596, 0.94516178, 0.91653555, 0.59404038, 0.46808198, 0.71076843, 0.15291841, 0.82845683, 0.57716593, 0.07822278, 0.56626228, 0.34073265, 0.63050806, 0.60213327, 0.98029778, 0.71585479, 0.46636596, 0.41265009, 0.52739283, 0.5286171, 0.60080633, 0.3181492, 0.55970441, 0.44726424] [t(_)::influence_via_album(aawolawayoflife), t(_)::influence_via_artist(aawol), t(_)::influence_via_genre(ghiphop), t(_)::song_quality(sfood), t(_)::song_quality(selectricave), t(_)::song_quality(sthisworld), t(_)::influence_via_album(aconstanthitmaker), t(_)::influence_via_artist(akurtvile), t(_)::influence_via_genre(gpop), t(_)::song_quality(sfreeway), t(_)::influence_via_album(aniris), t(_)::influence_via_artist(anickycook), t(_)::influence_via_genre(gnan), t(_)::song_quality(sspirituallevel), t(_)::song_quality(swhereisyourlove), t(_)::song_quality(stoohappy), t(_)::song_quality(syosemite), t(_)::song_quality(slightoflight), t(_)::song_quality(sstreetmusic), t(_)::influence_via_album(amp), t(_)::influence_via_artist(aabominog), t(_)::influence_via_genre(grock), t(_)::song_quality(sfathersday), t(_)::song_quality(speelbackthemountainsky), t(_)::influence_via_album(aliveatlace), t(_)::influence_via_artist(aairway), t(_)::influence_via_genre(gexperimental), t(_)::song_quality(ssidea), t(_)::song_quality(ssideb), t(_)::influence_via_album(aeverymanforhimself), t(_)::influence_via_artist(aaleckredfearntheeyesores), t(_)::influence_via_genre(gfolk), t(_)::song_quality(scandyass), t(_)::influence_via_album(atheblindspot), t(_)::song_quality(squeenofthewires), t(_)::song_quality(sohio), t(_)::influence_via_album(athequietroom), t(_)::song_quality(spunjabiwaterygrave), t(_)::influence_via_album(aamoebiasis), t(_)::influence_via_artist(aamoebicensemble), t(_)::influence_via_genre(gjazz), t(_)::song_quality(swireup), t(_)::song_quality(samoebiasis), t(_)::influence_via_album(alimbicrage), t(_)::song_quality(sgimmeabuckorilltouchyouboilermaker), t(_)::song_quality(srepetitivemotionsickness), t(_)::influence_via_album(acontradiction), t(_)::influence_via_artist(acontradiction), t(_)::song_quality(sblackout), t(_)::influence_via_album(atwogongwirepieces), t(_)::influence_via_artist(aandyhayleck), t(_)::song_quality(soutsidethewindowbeesbuzzed), t(_)::song_quality(slisteningtothesunshineburnthegrass), t(_)::influence_via_album(amakethemsuffer), t(_)::influence_via_artist(aanimalwrites), t(_)::song_quality(suntitled), t(_)::influence_via_album(aarcandsender), t(_)::influence_via_artist(aarcandsender), t(_)::song_quality(shundredyearflood), t(_)::song_quality(ssquaresandcircles), t(_)::influence_via_album(aunreleaseddemo), t(_)::song_quality(smapsofthestarshomes), t(_)::influence_via_album(atheehauntedcobblestonesunsetconcertseries), t(_)::influence_via_artist(aareac), t(_)::song_quality(strack), t(_)::influence_via_album(abossofgoth), t(_)::influence_via_artist(aargumentix), t(_)::song_quality(sbossofgoth), t(_)::song_popularity(S1)] 2\n",
            "Model generated in 49.59222340583801\n",
            "Inference time: 1181.4993832111359\n",
            "dataset size: 45\n",
            "tcmalloc: large alloc 1152008192 bytes == 0x2e52000 @  0x7ff41aabb887 0x424c9f 0x40bb4e 0x402a56 0x42695d 0x7ff419d77c18 0x402acd\n",
            "-58.19958361677419 [0.59620395, 0.19866929, 0.46733028, 0.33059749, 0.62157054, 0.02261879, 0.44373368, 0.0137628, 0.77557468, 0.33169365, 0.01247137, 0.58656178, 0.5814714, 0.36577924, 0.02880762, 0.67091825, 0.47288857, 0.99852312, 0.53675213, 0.79990588, 0.72691386, 0.52652335, 0.05720218, 0.35963155, 0.88741254, 0.86608227, 0.08381683, 0.55071752, 0.97880777, 0.33303001, 0.62000671, 0.99248991, 0.51693939, 0.23721313, 0.46745242, 0.0227745, 0.75518466, 0.6772959, 0.33299329, 0.42587434, 0.31885093, 0.84090001, 0.24637405, 0.73559458, 0.48640996, 0.44341653, 0.33693536, 0.63862355, 0.69723175, 0.54116658, 0.71173923, 0.59446223, 0.49412496, 0.0282543, 0.52946213, 0.63555122, 0.48554776, 0.40028398, 0.72165941, 0.22458192, 0.4957124, 0.90326, 0.81757932, 0.45215273, 0.35134665, 0.14046049, 0.59030978, 0.52915973, 0.96231185, 0.67435875, 0.31497385] [t(_)::influence_via_album(aawolawayoflife), t(_)::influence_via_artist(aawol), t(_)::influence_via_genre(ghiphop), t(_)::song_quality(sfood), t(_)::song_quality(selectricave), t(_)::song_quality(sthisworld), t(_)::influence_via_album(aconstanthitmaker), t(_)::influence_via_artist(akurtvile), t(_)::influence_via_genre(gpop), t(_)::song_quality(sfreeway), t(_)::influence_via_album(aniris), t(_)::influence_via_artist(anickycook), t(_)::influence_via_genre(gnan), t(_)::song_quality(sspirituallevel), t(_)::song_quality(swhereisyourlove), t(_)::song_quality(stoohappy), t(_)::song_quality(syosemite), t(_)::song_quality(slightoflight), t(_)::song_quality(sstreetmusic), t(_)::influence_via_album(amp), t(_)::influence_via_artist(aabominog), t(_)::influence_via_genre(grock), t(_)::song_quality(sfathersday), t(_)::song_quality(speelbackthemountainsky), t(_)::influence_via_album(aliveatlace), t(_)::influence_via_artist(aairway), t(_)::influence_via_genre(gexperimental), t(_)::song_quality(ssidea), t(_)::song_quality(ssideb), t(_)::influence_via_album(aeverymanforhimself), t(_)::influence_via_artist(aaleckredfearntheeyesores), t(_)::influence_via_genre(gfolk), t(_)::song_quality(scandyass), t(_)::influence_via_album(atheblindspot), t(_)::song_quality(squeenofthewires), t(_)::song_quality(sohio), t(_)::influence_via_album(athequietroom), t(_)::song_quality(spunjabiwaterygrave), t(_)::influence_via_album(aamoebiasis), t(_)::influence_via_artist(aamoebicensemble), t(_)::influence_via_genre(gjazz), t(_)::song_quality(swireup), t(_)::song_quality(samoebiasis), t(_)::influence_via_album(alimbicrage), t(_)::song_quality(sgimmeabuckorilltouchyouboilermaker), t(_)::song_quality(srepetitivemotionsickness), t(_)::influence_via_album(acontradiction), t(_)::influence_via_artist(acontradiction), t(_)::song_quality(sblackout), t(_)::influence_via_album(atwogongwirepieces), t(_)::influence_via_artist(aandyhayleck), t(_)::song_quality(soutsidethewindowbeesbuzzed), t(_)::song_quality(slisteningtothesunshineburnthegrass), t(_)::influence_via_album(amakethemsuffer), t(_)::influence_via_artist(aanimalwrites), t(_)::song_quality(suntitled), t(_)::influence_via_album(aarcandsender), t(_)::influence_via_artist(aarcandsender), t(_)::song_quality(shundredyearflood), t(_)::song_quality(ssquaresandcircles), t(_)::influence_via_album(aunreleaseddemo), t(_)::song_quality(smapsofthestarshomes), t(_)::influence_via_album(atheehauntedcobblestonesunsetconcertseries), t(_)::influence_via_artist(aareac), t(_)::song_quality(strack), t(_)::influence_via_album(abossofgoth), t(_)::influence_via_artist(aargumentix), t(_)::song_quality(sbossofgoth), t(_)::influence_via_album(anightmarcher), t(_)::song_quality(sindustrystandardmassacre), t(_)::song_popularity(S1)] 7\n",
            "Model generated in 1461.981864452362\n"
          ]
        }
      ]
    },
    {
      "cell_type": "markdown",
      "source": [
        "# Results"
      ],
      "metadata": {
        "id": "c41cYj7XkY9m"
      }
    },
    {
      "cell_type": "code",
      "source": [
        "# rule2 + rule3\n",
        "indices = [1, 2, 3, 4, 5, 6, 7, 8, 9, 10, 11, 12, 13, 14, 15, 16, 17, 18, 19, 20, 21, 22, 23, 24, 25, 26, 27, 28, 29, \n",
        "           30, 31, 32, 33, 34, 35, 36, 37, 38, 39, 40, 41, 42, 43, 44]\n",
        "parameter_learning_time = [0.21393632888793945, 0.21396207809448242, 0.2153024673461914, 0.21423673629760742, 0.31928253173828125, \n",
        "                           0.3152024745941162, 0.5134449005126953, 0.6180644035339355, 1.5187809467315674, 1.8208956718444824, \n",
        "                           1.9199976921081543, 2.024230480194092, 4.528769493103027, 2.423983097076416, 3.2293028831481934, \n",
        "                           2.825589179992676, 3.02547550201416, 4.126496315002441, 4.429190635681152, 7.883626937866211, \n",
        "                           3.9337875843048096, 4.327578067779541, 6.4313063621521, 7.838318347930908, 7.742924213409424,\n",
        "                           8.040890455245972, 6.336061000823975, 8.75014615058899, 7.7424750328063965, 11.663806676864624, \n",
        "                           26.589163064956665, 43.066561222076416, 15.768728017807007, 96.12574243545532, 16.17621159553528, \n",
        "                           31.913857460021973, 29.00252056121826, 15.667762517929077, 26.489001989364624, 60.51851034164429, \n",
        "                           81.70936393737793, 15.577361583709717, 27.796868085861206, 49.59222340583801, 1461.981864452362]\n",
        "\n",
        "\n",
        "inference_time = [0.029458045959472656, 0.0429072380065918, 0.07517766952514648, 0.10079789161682129, 0.13068175315856934, \n",
        "                  0.17235755920410156, 0.23371028900146484, 0.5404205322265625, 19.216037034988403, 18.494944095611572, \n",
        "                  17.886371612548828, 17.322494983673096, 18.441514253616333, 17.415427446365356, 18.727960348129272, \n",
        "                  19.230315446853638, 21.001096725463867, 19.469051599502563, 21.537201166152954, 20.331490755081177, \n",
        "                  20.198376178741455, 20.693817853927612, 21.8779354095459, 21.444778203964233, 22.110844135284424, \n",
        "                  22.98336911201477, 22.473341464996338, 24.55247187614441, 24.86344861984253, 40.27505826950073, \n",
        "                  54.71161341667175, 54.29702711105347, 55.00996017456055, 54.92138409614563, 55.76268815994263, \n",
        "                  54.933969259262085, 53.94945240020752, 53.6454963684082, 54.530317068099976, 50.308289766311646,\n",
        "                  50.2001838684082, 53.33435606956482, 55.666502475738525, 1181.4993832111359]\n",
        "\n",
        "plt.plot(indices+[45], parameter_learning_time)\n",
        "plt.xlabel('dataset size')\n",
        "plt.ylabel('parameter learning time')\n",
        "plt.show()\n",
        "plt.plot(indices, inference_time)\n",
        "plt.xlabel('dataset size')\n",
        "plt.ylabel('inference time')\n",
        "plt.show()"
      ],
      "metadata": {
        "colab": {
          "base_uri": "https://localhost:8080/",
          "height": 541
        },
        "id": "7Tkfow4lkc_2",
        "outputId": "16a8f5c2-07fe-4bd4-fdc4-e85485d0d6f1"
      },
      "execution_count": 13,
      "outputs": [
        {
          "output_type": "display_data",
          "data": {
            "text/plain": [
              "<Figure size 432x288 with 1 Axes>"
            ],
            "image/png": "[encoded data removed]"
          },
          "metadata": {
            "needs_background": "light"
          }
        },
        {
          "output_type": "display_data",
          "data": {
            "text/plain": [
              "<Figure size 432x288 with 1 Axes>"
            ],
            "image/png": "[encoded data removed]"
          },
          "metadata": {
            "needs_background": "light"
          }
        }
      ]
    },
    {
      "cell_type": "code",
      "source": [
        "# all three rules\n",
        "indices = [1, 2, 3, 4, 5, 6, 7, 8, 9]\n",
        "parameter_learning_time = [0.2327585220336914, 0.2352461814880371, 0.3307619094848633, 0.32865452766418457, 0.44937920570373535, \n",
        "                           0.43291616439819336, 0.6476161479949951, 1.0414485931396484, 7.458491325378418]\n",
        "\n",
        "inference_time = [0.045601606369018555, 0.06828641891479492, 0.14423632621765137, 0.25356245040893555, 0.2267148494720459, \n",
        "                  0.275313138961792, 0.37879037857055664, 2.2360646724700928, 731.5526964664459]\n",
        "\n",
        "plt.plot(indices, parameter_learning_time)\n",
        "plt.xlabel('dataset size')\n",
        "plt.ylabel('parameter learning time')\n",
        "plt.show()\n",
        "plt.plot(indices, inference_time)\n",
        "plt.xlabel('dataset size')\n",
        "plt.ylabel('inference time')\n",
        "plt.show()"
      ],
      "metadata": {
        "colab": {
          "base_uri": "https://localhost:8080/",
          "height": 541
        },
        "id": "Qj_nkshCaHv4",
        "outputId": "19e0e4d9-9f6e-4426-c417-545e52ba0008"
      },
      "execution_count": 35,
      "outputs": [
        {
          "output_type": "display_data",
          "data": {
            "text/plain": [
              "<Figure size 432x288 with 1 Axes>"
            ],
            "image/png": "[encoded data removed]"
          },
          "metadata": {
            "needs_background": "light"
          }
        },
        {
          "output_type": "display_data",
          "data": {
            "text/plain": [
              "<Figure size 432x288 with 1 Axes>"
            ],
            "image/png": "[encoded data removed]"
          },
          "metadata": {
            "needs_background": "light"
          }
        }
      ]
    },
    {
      "cell_type": "code",
      "source": [
        "# without album rule\n",
        "indices = [1, 2, 3, 4, 5, 6, 7, 8, 9, 10, 11, 12, 13, 14, 15, 16, 17, 18, 19, 20, 21, 22, 23, 24, 25, 26, 27, 28, 29, \n",
        "           30, 31, 32, 33, 34, 35, 36, 37, 38, 39, 40, 41, 42, 43]\n",
        "parameter_learning_time = [0.21857643127441406, 0.22141480445861816, 0.2229933738708496, 0.22638630867004395, 0.32315993309020996, \n",
        "                           0.31990551948547363, 0.4216170310974121, 0.5203404426574707, 1.5354247093200684, 2.229588747024536, \n",
        "                           6.339900732040405, 3.136521816253662, 2.337252140045166, 2.4289000034332275, 8.056160926818848, \n",
        "                           3.5353376865386963, 2.928953170776367, 10.863177061080933, 5.3392791748046875, 4.833885431289673, \n",
        "                           4.3484790325164795, 4.543108224868774, 8.651081800460815, 6.74981427192688, 6.341802597045898, \n",
        "                           12.666597366333008, 9.254212379455566, 15.570098876953125, 10.86394476890564, 15.986953973770142, \n",
        "                           30.83943200111389, 29.229628324508667, 29.43751835823059, 30.7311532497406, 36.9561562538147, \n",
        "                           152.08158230781555, 21.610766172409058, 29.554089546203613, 21.603273630142212, 67.84720945358276,\n",
        "                           36.54867720603943, 30.333775997161865, 21.602463006973267]\n",
        "inference_time = [0.036385536193847656, 0.04721546173095703, 0.08933591842651367, 0.10819578170776367, 0.14257550239562988, \n",
        "                  0.1795811653137207, 0.24862933158874512, 0.5427627563476562, 20.210038900375366, 18.69439721107483, \n",
        "                  19.30550527572632, 18.14001727104187, 18.72327494621277, 18.1898295879364, 18.7257719039917, \n",
        "                  19.78724694252014, 20.074750423431396, 21.32493567466736, 21.964844465255737, 22.717869997024536, \n",
        "                  21.89807629585266, 21.98620843887329, 22.34943199157715, 22.377171754837036, 22.55602526664734, \n",
        "                  24.2936532497406, 23.939164876937866, 25.316279649734497, 27.082239151000977, 72.48653650283813, \n",
        "                  91.67673373222351, 89.05550789833069, 89.49022650718689, 90.61178517341614, 90.18286561965942, \n",
        "                  89.57519578933716, 88.61185956001282, 90.4893696308136, 94.96123003959656, 89.74681973457336,\n",
        "                  89.46042513847351, 97.56016135215759, 91.19453072547913]\n",
        "\n",
        "# inference on 44 never not terminates\n",
        "\n",
        "plt.plot(indices, parameter_learning_time)\n",
        "plt.xlabel('dataset size')\n",
        "plt.ylabel('parameter learning time')\n",
        "plt.show()\n",
        "plt.plot(indices, inference_time)\n",
        "plt.xlabel('dataset size')\n",
        "plt.ylabel('inference time')\n",
        "plt.show()"
      ],
      "metadata": {
        "colab": {
          "base_uri": "https://localhost:8080/",
          "height": 541
        },
        "id": "D35Mo2u1FoLz",
        "outputId": "e5da7517-b954-43a0-e7e8-62690f359616"
      },
      "execution_count": 33,
      "outputs": [
        {
          "output_type": "display_data",
          "data": {
            "text/plain": [
              "<Figure size 432x288 with 1 Axes>"
            ],
            "image/png": "[encoded data removed]"
          },
          "metadata": {
            "needs_background": "light"
          }
        },
        {
          "output_type": "display_data",
          "data": {
            "text/plain": [
              "<Figure size 432x288 with 1 Axes>"
            ],
            "image/png": "[encoded data removed]"
          },
          "metadata": {
            "needs_background": "light"
          }
        }
      ]
    }
  ],
  "metadata": {
    "interpreter": {
      "hash": "2311630a52cedeaec8888e3ac2f1a57854d2acf548d26364ef7186e17f759282"
    },
    "kernelspec": {
      "display_name": "Python 3.9.12 ('ml_env')",
      "language": "python",
      "name": "python3"
    },
    "language_info": {
      "codemirror_mode": {
        "name": "ipython",
        "version": 3
      },
      "file_extension": ".py",
      "mimetype": "text/x-python",
      "name": "python",
      "nbconvert_exporter": "python",
      "pygments_lexer": "ipython3",
      "version": "3.9.12"
    },
    "orig_nbformat": 4,
    "colab": {
      "name": "problog_model.ipynb",
      "provenance": [],
      "collapsed_sections": []
    }
  },
  "nbformat": 4,
  "nbformat_minor": 0
}